{
 "cells": [
  {
   "cell_type": "code",
   "execution_count": 52,
   "metadata": {},
   "outputs": [],
   "source": [
    "# Import Dependencies\n",
    "\n",
    "import pandas as pd\n",
    "\n",
    "from matplotlib import pyplot as plt\n",
    "\n",
    "import random"
   ]
  },
  {
   "cell_type": "code",
   "execution_count": 56,
   "metadata": {},
   "outputs": [
    {
     "name": "stdout",
     "output_type": "stream",
     "text": [
      "drawn_numbers_and_their_frequency = {1: 17, 2: 11, 3: 7, 4: 13, 5: 9, 6: 9, 7: 1, 8: 19, 9: 22, 10: 21, 11: 6, 12: 22, 13: 12, 14: 18, 15: 24, 16: 18, 17: 16, 18: 15, 19: 25, 20: 19, 21: 10, 22: 20, 23: 25, 24: 14, 25: 24, 26: 2, 27: 2, 28: 7, 29: 0, 30: 13, 31: 9, 32: 16, 33: 11, 34: 15, 35: 25, 36: 22, 37: 9, 38: 7, 39: 11, 40: 5, 41: 19, 42: 13, 43: 11, 44: 13, 45: 4, 46: 12, 47: 11, 48: 2, 49: 22, 50: 15}\n"
     ]
    }
   ],
   "source": [
    "# Get Frequency of Drawn Numbers For The Year 2020\n",
    "\n",
    "numbers = [ number for number in range(1, 51)] #numbers from 1 to 50\n",
    "\n",
    "random_samples = 25\n",
    "\n",
    "frequencies = [ random.randint(0, random_samples) for _ in range(50) ]\n",
    "\n",
    "drawn_numbers_and_their_frequency = { numbers[index]:frequencies[index] for index in range(len(numbers))}\n",
    "\n",
    "print(f\"{drawn_numbers_and_their_frequency = }\")\n"
   ]
  },
  {
   "cell_type": "code",
   "execution_count": 61,
   "metadata": {},
   "outputs": [
    {
     "name": "stdout",
     "output_type": "stream",
     "text": [
      "staring associated_number_to_minimum_frequency = 1 and minimum_frequency = 17\n",
      "ending associated_number_to_minimum_frequency = 29 and minimum_frequency = 0\n"
     ]
    }
   ],
   "source": [
    "# Corronation between drawn_numbers_and_their_frequency\n",
    "\n",
    "associated_number_to_minimum_frequency = 1\n",
    "\n",
    "minimum_frequency = drawn_numbers_and_their_frequency[associated_number_to_minimum_frequency]\n",
    "\n",
    "print(f\"staring {associated_number_to_minimum_frequency = } and {minimum_frequency = }\")\n",
    "\n",
    "for number in range(2, len(numbers)):\n",
    "    \n",
    "    potential_minimum_frequency = drawn_numbers_and_their_frequency[number]\n",
    "    \n",
    "    if potential_minimum_frequency < minimum_frequency:\n",
    "        minimum_frequency = potential_minimum_frequency\n",
    "        associated_number_to_minimum_frequency = number\n",
    "    \n",
    "    \n",
    "print(f\"ending {associated_number_to_minimum_frequency = } and {minimum_frequency = }\")\n"
   ]
  },
  {
   "cell_type": "code",
   "execution_count": 62,
   "metadata": {},
   "outputs": [
    {
     "name": "stdout",
     "output_type": "stream",
     "text": [
      "staring associated_number_to_maximum_frequency = 1 and maximum_frequency = 17\n",
      "ending associated_number_to_maximum_frequency = 19 and maximum_frequency = 25\n"
     ]
    }
   ],
   "source": [
    "associated_number_to_maximum_frequency = 1\n",
    "\n",
    "maximum_frequency = drawn_numbers_and_their_frequency[associated_number_to_maximum_frequency]\n",
    "\n",
    "print(f\"staring {associated_number_to_maximum_frequency = } and {maximum_frequency = }\")\n",
    "\n",
    "for number in range(2, len(numbers)):\n",
    "    \n",
    "    potential_maximum_frequency = drawn_numbers_and_their_frequency[number]\n",
    "    \n",
    "    if potential_maximum_frequency > maximum_frequency:\n",
    "        maximum_frequency = potential_maximum_frequency\n",
    "        associated_number_to_maximum_frequency = number\n",
    "    \n",
    "    \n",
    "print(f\"ending {associated_number_to_maximum_frequency = } and {maximum_frequency = }\")"
   ]
  },
  {
   "cell_type": "code",
   "execution_count": 58,
   "metadata": {},
   "outputs": [
    {
     "data": {
      "image/png": "[encoded data removed]",
      "text/plain": [
       "<Figure size 432x288 with 1 Axes>"
      ]
     },
     "metadata": {
      "needs_background": "light"
     },
     "output_type": "display_data"
    }
   ],
   "source": [
    "plt.title(\"Frequency of Drawn Numbers For The Year 2020\")\n",
    "\n",
    "xlabel = \"Drawn Numbers\"\n",
    "\n",
    "plt.xlabel(xlabel)\n",
    "\n",
    "ylabel = \"Frequency\"\n",
    "\n",
    "plt.ylabel(ylabel)\n",
    "\n",
    "# Plot a Dotted Graph Represantaion, of drawn_numbers_and_their_frequency vs\n",
    "\n",
    "plt.plot(numbers, frequencies, \"o\")\n",
    "\n",
    "\n",
    "# min and max Frequency Line Graph Represantaion.\n",
    "\n",
    "\n",
    "min_max_numbers = [associated_number_to_minimum_frequency, associated_number_to_maximum_frequency]\n",
    "\n",
    "min_max_frequencies = [minimum_frequency, maximum_frequency]\n",
    "\n",
    "\n",
    "# add extra info to the graph\n",
    "\n",
    "legend = [\n",
    "    f\"This is {xlabel} vs {ylabel}\"\n",
    "]\n",
    "\n",
    "\n",
    "plt.legend(legend)\n",
    "\n",
    "plt.show()"
   ]
  },
  {
   "cell_type": "code",
   "execution_count": null,
   "metadata": {},
   "outputs": [],
   "source": []
  }
 ],
 "metadata": {
  "kernelspec": {
   "display_name": "Python 3",
   "language": "python",
   "name": "python3"
  },
  "language_info": {
   "codemirror_mode": {
    "name": "ipython",
    "version": 3
   },
   "file_extension": ".py",
   "mimetype": "text/x-python",
   "name": "python",
   "nbconvert_exporter": "python",
   "pygments_lexer": "ipython3",
   "version": "3.8.3"
  }
 },
 "nbformat": 4,
 "nbformat_minor": 4
}
