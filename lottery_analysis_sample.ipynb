{
 "cells": [
  {
   "cell_type": "code",
   "execution_count": 101,
   "metadata": {},
   "outputs": [],
   "source": [
    "# Import Dependencies\n",
    "\n",
    "import pandas as pd\n",
    "\n",
    "from matplotlib import pyplot as plt\n",
    "\n",
    "import random"
   ]
  },
  {
   "cell_type": "code",
   "execution_count": 181,
   "metadata": {},
   "outputs": [
    {
     "name": "stdout",
     "output_type": "stream",
     "text": [
      "drawn_numbers_and_their_frequency = {1: 71, 2: 22, 3: 12, 4: 53, 5: 32, 6: 32, 7: 9, 8: 82, 9: 35, 10: 80, 11: 42, 12: 71, 13: 62, 14: 54, 15: 5, 16: 86, 17: 43, 18: 96, 19: 3, 20: 18, 21: 61, 22: 88, 23: 63, 24: 21, 25: 31, 26: 66, 27: 1, 28: 42, 29: 73, 30: 44, 31: 89, 32: 32, 33: 88, 34: 69, 35: 66, 36: 54, 37: 86, 38: 10, 39: 12, 40: 64, 41: 16, 42: 43, 43: 52, 44: 2, 45: 25, 46: 73, 47: 63, 48: 52, 49: 0, 50: 79}\n"
     ]
    }
   ],
   "source": [
    "# Get Frequency of Drawn Numbers For The Year 2020\n",
    "\n",
    "numbers = [ number for number in range(1, 51)] #numbers from 1 to 50\n",
    "\n",
    "random_samples = 100\n",
    "\n",
    "frequencies = [ random.randint(0, random_samples) for _ in range(50) ]\n",
    "\n",
    "drawn_numbers_and_their_frequency = { numbers[index]:frequencies[index] for index in range(len(numbers))}\n",
    "\n",
    "print(f\"{drawn_numbers_and_their_frequency = }\")\n"
   ]
  },
  {
   "cell_type": "code",
   "execution_count": 182,
   "metadata": {},
   "outputs": [
    {
     "name": "stdout",
     "output_type": "stream",
     "text": [
      "staring associated_number_to_minimum_frequency = 1 and minimum_frequency = 71\n",
      "ending associated_number_to_minimum_frequency = 49 and minimum_frequency = 0\n"
     ]
    }
   ],
   "source": [
    "# Corronation of Min & Max between drawn_numbers_and_their_frequency\n",
    "\n",
    "associated_number_to_minimum_frequency = 1\n",
    "\n",
    "minimum_frequency = drawn_numbers_and_their_frequency[associated_number_to_minimum_frequency]\n",
    "\n",
    "print(f\"staring {associated_number_to_minimum_frequency = } and {minimum_frequency = }\")\n",
    "\n",
    "for number in range(2, len(numbers)):\n",
    "    \n",
    "    potential_minimum_frequency = drawn_numbers_and_their_frequency[number]\n",
    "    \n",
    "    if potential_minimum_frequency < minimum_frequency:\n",
    "        minimum_frequency = potential_minimum_frequency\n",
    "        associated_number_to_minimum_frequency = number\n",
    "    \n",
    "    \n",
    "print(f\"ending {associated_number_to_minimum_frequency = } and {minimum_frequency = }\")\n"
   ]
  },
  {
   "cell_type": "code",
   "execution_count": 183,
   "metadata": {},
   "outputs": [
    {
     "name": "stdout",
     "output_type": "stream",
     "text": [
      "staring associated_number_to_maximum_frequency = 1 and maximum_frequency = 71\n",
      "ending associated_number_to_maximum_frequency = 18 and maximum_frequency = 96\n"
     ]
    }
   ],
   "source": [
    "associated_number_to_maximum_frequency = 1\n",
    "\n",
    "maximum_frequency = drawn_numbers_and_their_frequency[associated_number_to_maximum_frequency]\n",
    "\n",
    "print(f\"staring {associated_number_to_maximum_frequency = } and {maximum_frequency = }\")\n",
    "\n",
    "for number in range(2, len(numbers)):\n",
    "    \n",
    "    potential_maximum_frequency = drawn_numbers_and_their_frequency[number]\n",
    "    \n",
    "    if potential_maximum_frequency > maximum_frequency:\n",
    "        maximum_frequency = potential_maximum_frequency\n",
    "        associated_number_to_maximum_frequency = number\n",
    "    \n",
    "    \n",
    "print(f\"ending {associated_number_to_maximum_frequency = } and {maximum_frequency = }\")"
   ]
  },
  {
   "cell_type": "code",
   "execution_count": 184,
   "metadata": {},
   "outputs": [],
   "source": [
    "# Map associated_number_to_min_max_frequencies\n",
    "\n",
    "min_max_numbers = [associated_number_to_minimum_frequency, associated_number_to_maximum_frequency]\n",
    "\n",
    "min_max_frequencies = [minimum_frequency, maximum_frequency]\n"
   ]
  },
  {
   "cell_type": "code",
   "execution_count": 185,
   "metadata": {
    "scrolled": true
   },
   "outputs": [
    {
     "data": {
      "image/png": "[encoded data removed]",
      "text/plain": [
       "<Figure size 432x288 with 1 Axes>"
      ]
     },
     "metadata": {
      "needs_background": "light"
     },
     "output_type": "display_data"
    }
   ],
   "source": [
    "# Add Title and Labels to the Graph\n",
    "\n",
    "plt.title(\"Frequency of Drawn Numbers For The Year 2020\")\n",
    "\n",
    "xlabel = \"Drawn Numbers\"\n",
    "\n",
    "plt.xlabel(xlabel)\n",
    "\n",
    "ylabel = \"Frequency\"\n",
    "\n",
    "plt.ylabel(ylabel)\n",
    "\n",
    "# Plot a drawn_numbers_and_their_frequency, Dotted Graph Represantaion,\n",
    "\n",
    "plt.plot(numbers, frequencies, \"o\")\n",
    "\n",
    "# Plot a Min and Max Frequency, Line Graph Represantaion.\n",
    "\n",
    "plt.plot(min_max_numbers, min_max_frequencies)\n",
    "\n",
    "# Plot 1st to last, Line Graph Represantaion.\n",
    "\n",
    "plt.plot([numbers[0],frequencies[0]], [numbers[len(numbers)-1],frequencies[len(frequencies)-1]])\n",
    "\n",
    "#plt.plot([numbers[len(numbers)-1],frequencies[len(frequencies)-1]],[numbers[0],frequencies[0]])\n",
    "\n",
    "# add legend to the graph\n",
    "\n",
    "legend = [\n",
    "    f\"This is {xlabel} vs {ylabel}\",\n",
    "     \"This is Min and Max Number Frequencies\",\n",
    "     \"This is 1st to last\",\n",
    "     #\"This is last to 1st\",\n",
    "]\n",
    "\n",
    "plt.legend(legend)\n",
    "\n",
    "# show the graph\n",
    "\n",
    "plt.show()\n"
   ]
  },
  {
   "cell_type": "code",
   "execution_count": null,
   "metadata": {},
   "outputs": [],
   "source": []
  },
  {
   "cell_type": "code",
   "execution_count": null,
   "metadata": {},
   "outputs": [],
   "source": []
  }
 ],
 "metadata": {
  "kernelspec": {
   "display_name": "Python 3",
   "language": "python",
   "name": "python3"
  },
  "language_info": {
   "codemirror_mode": {
    "name": "ipython",
    "version": 3
   },
   "file_extension": ".py",
   "mimetype": "text/x-python",
   "name": "python",
   "nbconvert_exporter": "python",
   "pygments_lexer": "ipython3",
   "version": "3.8.3"
  }
 },
 "nbformat": 4,
 "nbformat_minor": 4
}
